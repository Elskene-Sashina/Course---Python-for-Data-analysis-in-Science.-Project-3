{
 "cells": [
  {
   "cell_type": "code",
   "execution_count": 2,
   "id": "4b689a9a-71ae-4c23-a707-a1a20ac171d3",
   "metadata": {},
   "outputs": [
    {
     "ename": "SyntaxError",
     "evalue": "invalid syntax (26031726.py, line 58)",
     "output_type": "error",
     "traceback": [
      "\u001b[1;36m  Cell \u001b[1;32mIn[2], line 58\u001b[1;36m\u001b[0m\n\u001b[1;33m    possible_mistakes = 1\u001b[0m\n\u001b[1;37m                      ^\u001b[0m\n\u001b[1;31mSyntaxError\u001b[0m\u001b[1;31m:\u001b[0m invalid syntax\n"
     ]
    }
   ],
   "source": [
    "# IMPORT MODULE\n",
    "from Bio import SeqIO\n",
    "from collections import defaultdict\n",
    "\n",
    "# OPEN FILE\n",
    "def open_file(file):\n",
    "    sequences = []\n",
    "    with open(file) as file:\n",
    "        reads = SeqIO.parse(file, format=\"fasta\")\n",
    "        for read in reads:\n",
    "            sequences.append(str(read.seq))\n",
    "    return sequences\n",
    "    \n",
    "# HOW TO FIND MOTIF\n",
    "def find_motif(sequence, motif, possible_mistakes):\n",
    "    index = 0\n",
    "    mistakes_counter = 0 \n",
    "    where_motif_starts = []                                     # List for storing the positions of the beginning of motives\n",
    "    motif_counts = {}                                           # Dictionary for storing the number of occurrences of each motif\n",
    "    while index <= len(sequence) - len(motif):\n",
    "        for i in range(len(motif)):\n",
    "            if sequence[index + i] == motif[i]:\n",
    "                pass                                            # Matching characters\n",
    "            else:\n",
    "                mistakes_counter += 1                           # Mismatch of characters\n",
    "                if mistakes_counter > possible_mistakes:        # Allowed number of errors has been exceeded\n",
    "                    break\n",
    "        if mistakes_counter <= possible_mistakes:               # Motive found with acceptable number of errors\n",
    "            current_motif = sequence[index:index + len(motif)]  # Cutting out the current motif\n",
    "            where_motif_starts.append(index)                    # Adding the position of the beginning of the motif\n",
    "            if current_motif in motif_counts:\n",
    "                motif_counts[current_motif] += 1                # Increasing the counter for the current motive\n",
    "            else:\n",
    "                motif_counts[current_motif] = 1                 # Adding a new motif to the dictionary\n",
    "        mistakes_counter = 0\n",
    "        index += 1\n",
    "    return where_motif_starts, motif_counts\n",
    "    \n",
    "# MAKE RESULT (position, seq, how many seq)\n",
    "def make_result(start_positions, motif_counts):\n",
    "    result = \"Positions of motif starts:\\n\"\n",
    "    result += \", \".join(map(str, start_positions)) + \"\\n\\n\"\n",
    "    result += \"Count of each motif:\\n\"\n",
    "    for motif, count in motif_counts.items():\n",
    "        result += f\"Motif '{motif}': {count} times\\n\"\n",
    "    return result\n",
    "    \n",
    "# SAVE RESULT\n",
    "def save_to_file(result, file_path):\n",
    "    with open(file_path, 'w') as f:\n",
    "        f.write(result)\n",
    "\n",
    "# MAKE IT WORK\n",
    "def resulting(file):\n",
    "    sequences = open_file(#'PUT HERE YOUR FASTA FILE')\n",
    "    motif = #'PUT HERE MOTIF THAT YOU NEED'\n",
    "    possible_mistakes = #'PUT HERE HOW MANY MISTAKES COULD BE IN MOTIF'\n",
    "    for sequence in sequences:\n",
    "        start_positions, motif_counts = find_motif(sequence, motif, possible_mistakes)\n",
    "        result = make_result(start_positions, motif_counts)\n",
    "        save_to_file(result, #'PUT THE NAME FOR RESULTING FILE')"
   ]
  }
 ],
 "metadata": {
  "kernelspec": {
   "display_name": "Python 3 (ipykernel)",
   "language": "python",
   "name": "python3"
  },
  "language_info": {
   "codemirror_mode": {
    "name": "ipython",
    "version": 3
   },
   "file_extension": ".py",
   "mimetype": "text/x-python",
   "name": "python",
   "nbconvert_exporter": "python",
   "pygments_lexer": "ipython3",
   "version": "3.11.7"
  }
 },
 "nbformat": 4,
 "nbformat_minor": 5
}
